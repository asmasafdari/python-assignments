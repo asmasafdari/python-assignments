{
  "nbformat": 4,
  "nbformat_minor": 0,
  "metadata": {
    "colab": {
      "provenance": [],
      "authorship_tag": "ABX9TyMwM3q6Laj1dIVTIWufK9iX",
      "include_colab_link": true
    },
    "kernelspec": {
      "name": "python3",
      "display_name": "Python 3"
    },
    "language_info": {
      "name": "python"
    }
  },
  "cells": [
    {
      "cell_type": "markdown",
      "metadata": {
        "id": "view-in-github",
        "colab_type": "text"
      },
      "source": [
        "<a href=\"https://colab.research.google.com/github/asmasafdari/python-assignments/blob/main/01_expressions.ipynb\" target=\"_parent\"><img src=\"https://colab.research.google.com/assets/colab-badge.svg\" alt=\"Open In Colab\"/></a>"
      ]
    },
    {
      "cell_type": "code",
      "execution_count": null,
      "metadata": {
        "id": "U1Xw_qsWljT-"
      },
      "outputs": [],
      "source": [
        "# 01_dicesimulator\n",
        "\n",
        "\n",
        "import random\n",
        "\n",
        "def main():\n",
        "    for roll in range(1, 4):\n",
        "        die1 = random.randint(1, 6)\n",
        "        die2 = random.randint(1, 6)\n",
        "        print(f\"Roll {roll}: Die 1 = {die1}, Die 2 = {die2}\")\n",
        "\n",
        "\n",
        "if __name__ == '__main__':\n",
        "    main()\n"
      ]
    },
    {
      "cell_type": "code",
      "source": [
        "# 02_e=mc2\n",
        "\n",
        "\n",
        "def main():\n",
        "    C = 299_792_458\n",
        "\n",
        "    while True:\n",
        "        try:\n",
        "            mass_input = input(\"Enter kilos of mass: \")\n",
        "            mass = float(mass_input)\n",
        "\n",
        "            print(\"\\ne = m * C^2...\")\n",
        "            print(f\"m = {mass} kg\")\n",
        "            print(f\"C = {C} m/s\")\n",
        "\n",
        "            energy = mass * C**2\n",
        "\n",
        "            print(f\"\\n{energy} joules of energy!\\n\")\n",
        "\n",
        "        except ValueError:\n",
        "            print(\"Please enter a valid number for mass.\\n\")\n",
        "\n",
        "\n",
        "if __name__ == '__main__':\n",
        "    main()\n"
      ],
      "metadata": {
        "id": "vNbnPqcy5wMC"
      },
      "execution_count": null,
      "outputs": []
    },
    {
      "cell_type": "code",
      "source": [
        "# 03_feet_to_inches\n",
        "\n",
        "\n",
        "def main():\n",
        "    feet = float(input(\"Enter length in feet: \"))\n",
        "\n",
        "    # (1 foot = 12 inches)\n",
        "    inches = feet * 12\n",
        "\n",
        "    print(f\"{feet} feet is {inches} inches.\")\n",
        "\n",
        "\n",
        "\n",
        "if __name__ == '__main__':\n",
        "    main()\n"
      ],
      "metadata": {
        "id": "7GDbQcm38Tow"
      },
      "execution_count": null,
      "outputs": []
    },
    {
      "cell_type": "code",
      "source": [
        "# 04_pythagorean_theorem\n",
        "\n",
        "\n",
        "import math\n",
        "\n",
        "def main():\n",
        "\n",
        "    ab = float(input(\"Enter the length of AB: \"))\n",
        "    ac = float(input(\"Enter the length of AC: \"))\n",
        "\n",
        "\n",
        "    bc = math.sqrt(ab**2 + ac**2)\n",
        "\n",
        "\n",
        "    print(f\"The length of BC (the hypotenuse) is: {bc}\")\n",
        "\n",
        "\n",
        "\n",
        "if __name__ == '__main__':\n",
        "    main()\n"
      ],
      "metadata": {
        "id": "xUPt-y5U8qab"
      },
      "execution_count": null,
      "outputs": []
    },
    {
      "cell_type": "code",
      "source": [
        "# 05_remainder_division\n",
        "\n",
        "\n",
        "def main():\n",
        "    dividend = int(input(\"Please enter an integer to be divided: \"))\n",
        "    divisor = int(input(\"Please enter an integer to divide by: \"))\n",
        "\n",
        "    quotient = dividend // divisor\n",
        "    remainder = dividend % divisor\n",
        "\n",
        "    print(f\"The result of this division is {quotient} with a remainder of {remainder}\")\n",
        "\n",
        "\n",
        "if __name__ == '__main__':\n",
        "    main()\n"
      ],
      "metadata": {
        "id": "I0Q-lhwv-_qL"
      },
      "execution_count": null,
      "outputs": []
    },
    {
      "cell_type": "code",
      "source": [
        "# 06_rolldice\n",
        "\n",
        "\n",
        "import random\n",
        "\n",
        "def main():\n",
        "    die1 = random.randint(1, 6)\n",
        "    die2 = random.randint(1, 6)\n",
        "\n",
        "    total = die1 + die2\n",
        "\n",
        "    print(f\"Die 1: {die1}\")\n",
        "    print(f\"Die 2: {die2}\")\n",
        "    print(f\"Total: {total}\")\n",
        "\n",
        "\n",
        "if __name__ == '__main__':\n",
        "    main()\n"
      ],
      "metadata": {
        "id": "rhSMaIbr_Hn8"
      },
      "execution_count": null,
      "outputs": []
    },
    {
      "cell_type": "code",
      "source": [
        "# 06_seconds_in_year\n",
        "\n",
        "\n",
        "def main():\n",
        "    DAYS_IN_YEAR = 365\n",
        "    HOURS_IN_DAY = 24\n",
        "    MINUTES_IN_HOUR = 60\n",
        "    SECONDS_IN_MINUTE = 60\n",
        "\n",
        "    seconds_in_year = DAYS_IN_YEAR * HOURS_IN_DAY * MINUTES_IN_HOUR * SECONDS_IN_MINUTE\n",
        "\n",
        "    print(f\"There are {seconds_in_year} seconds in a year!\")\n",
        "\n",
        "\n",
        "\n",
        "if __name__ == '__main__':\n",
        "    main()\n"
      ],
      "metadata": {
        "id": "6RoGtD7n_mU3"
      },
      "execution_count": null,
      "outputs": []
    },
    {
      "cell_type": "code",
      "source": [
        "# 07_tiny_mad_lib\n",
        "\n",
        "def main():\n",
        "    SENTENCE_START = \"Code in Place is fun. I learned to program and used Python to make my\"\n",
        "\n",
        "    adjective = input(\"Please type an adjective and press enter. \")\n",
        "    noun = input(\"Please type a noun and press enter. \")\n",
        "    verb = input(\"Please type a verb and press enter. \")\n",
        "\n",
        "    print(f\"{SENTENCE_START} {adjective} {noun} {verb}!\")\n",
        "\n",
        "\n",
        "if __name__ == '__main__':\n",
        "    main()\n"
      ],
      "metadata": {
        "id": "P723bXD7Bht0"
      },
      "execution_count": null,
      "outputs": []
    }
  ]
}